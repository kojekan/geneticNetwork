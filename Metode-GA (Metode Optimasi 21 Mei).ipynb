{
 "cells": [
  {
   "cell_type": "code",
   "execution_count": 1,
   "id": "37077629-860c-433c-9903-c6669b0000e9",
   "metadata": {},
   "outputs": [],
   "source": [
    "#BATAS PERTEMUAN MINGGU KE-11"
   ]
  },
  {
   "cell_type": "code",
   "execution_count": 2,
   "id": "a3df92e2-7ab7-465f-898e-4c24f7056a3f",
   "metadata": {},
   "outputs": [],
   "source": [
    "def penjumlahan(a,b):\n",
    "    return a+b"
   ]
  },
  {
   "cell_type": "code",
   "execution_count": 3,
   "id": "2dd8b443-cba6-4c07-a9f8-0aa2366f41b5",
   "metadata": {},
   "outputs": [
    {
     "data": {
      "text/plain": [
       "11"
      ]
     },
     "execution_count": 3,
     "metadata": {},
     "output_type": "execute_result"
    }
   ],
   "source": [
    "penjumlahan(5,6)"
   ]
  },
  {
   "cell_type": "code",
   "execution_count": 4,
   "id": "0a770dbb-99dd-49bc-b1a1-0acdbae7e62a",
   "metadata": {},
   "outputs": [],
   "source": [
    "def f(x,y,z):\n",
    "    return ((x*x)+(y*y)+(x*z))"
   ]
  },
  {
   "cell_type": "code",
   "execution_count": 5,
   "id": "05eb19f1-4a0a-4a6c-bf0f-21921f43c061",
   "metadata": {},
   "outputs": [
    {
     "data": {
      "text/plain": [
       "8"
      ]
     },
     "execution_count": 5,
     "metadata": {},
     "output_type": "execute_result"
    }
   ],
   "source": [
    "f(1,2,3)"
   ]
  },
  {
   "cell_type": "code",
   "execution_count": 6,
   "id": "19723ab4-9649-4577-8146-e724bb532b2e",
   "metadata": {},
   "outputs": [
    {
     "data": {
      "text/plain": [
       "5"
      ]
     },
     "execution_count": 6,
     "metadata": {},
     "output_type": "execute_result"
    }
   ],
   "source": [
    "k1=[3,5]\n",
    "k2=[7,1]\n",
    "\n",
    "k1[1]"
   ]
  },
  {
   "cell_type": "code",
   "execution_count": 7,
   "id": "6e2a20fa-86d6-428b-99a8-fb4f048043d3",
   "metadata": {},
   "outputs": [
    {
     "data": {
      "text/plain": [
       "4"
      ]
     },
     "execution_count": 7,
     "metadata": {},
     "output_type": "execute_result"
    }
   ],
   "source": [
    "A=[[3,6,8],[1,4,5],[2,7,0]]\n",
    "A[1][1]"
   ]
  },
  {
   "cell_type": "code",
   "execution_count": 8,
   "id": "5be51f12-6d3f-4450-b543-672a961c7a2f",
   "metadata": {},
   "outputs": [],
   "source": [
    "import math\n",
    "\n",
    "def hitungJarak(k1,k2):\n",
    "    return math.sqrt(((k2[0]-k1[0])*(k2[0]-k1[0]))+((k2[1]-k1[1])*(k2[1]-k1[1])))"
   ]
  },
  {
   "cell_type": "code",
   "execution_count": 9,
   "id": "99c66965-15cb-448c-b293-e8838f56ac4f",
   "metadata": {},
   "outputs": [],
   "source": [
    "k1=[2,1]\n",
    "k2=[7,5]"
   ]
  },
  {
   "cell_type": "code",
   "execution_count": 10,
   "id": "95f64c08-4095-4651-ba88-258d8213e98b",
   "metadata": {},
   "outputs": [
    {
     "data": {
      "text/plain": [
       "6.4031242374328485"
      ]
     },
     "execution_count": 10,
     "metadata": {},
     "output_type": "execute_result"
    }
   ],
   "source": [
    "hitungJarak(k1,k2)"
   ]
  },
  {
   "cell_type": "code",
   "execution_count": null,
   "id": "1fa2308e-2083-4381-995a-2a2ae6a88bcf",
   "metadata": {},
   "outputs": [],
   "source": []
  },
  {
   "cell_type": "code",
   "execution_count": 11,
   "id": "c6495690-497d-47a4-850d-17981623f221",
   "metadata": {},
   "outputs": [],
   "source": [
    "#BATAS PERTEMUAN MINGGU KE-12"
   ]
  },
  {
   "cell_type": "code",
   "execution_count": 12,
   "id": "d0b93c0c-f538-4b3e-8cac-c55df79999fe",
   "metadata": {},
   "outputs": [],
   "source": [
    "#Pertemuan Minggu ke-12 (28 Mei 2022)"
   ]
  },
  {
   "cell_type": "code",
   "execution_count": 13,
   "id": "69d52800-16db-4de1-9b46-10e729113e93",
   "metadata": {},
   "outputs": [],
   "source": [
    "import itertools\n",
    "import numpy\n",
    "import matplotlib.pyplot as plt\n",
    "import math\n",
    "import random\n",
    "import pandas as pd"
   ]
  },
  {
   "cell_type": "code",
   "execution_count": 14,
   "id": "1d561c0d-3b4c-42d3-91fe-f42e16860d67",
   "metadata": {},
   "outputs": [],
   "source": [
    "#perintah untuk memangggil library"
   ]
  },
  {
   "cell_type": "code",
   "execution_count": 15,
   "id": "fa31e7aa-3c07-4fcc-b090-e4456e3bb6af",
   "metadata": {},
   "outputs": [],
   "source": [
    "city=[[0,0],[1,2],[3,2],[5,2],[3,6],[5,3],[3,4],[6,2],[4,4]]"
   ]
  },
  {
   "cell_type": "code",
   "execution_count": 16,
   "id": "ee35d251-f64b-4503-aed7-38c0c765b6c2",
   "metadata": {},
   "outputs": [],
   "source": [
    "def jarak(a,b):\n",
    "  x2=(a[0]-b[0])*(a[0]-b[0])\n",
    "  y2=(a[1]-b[1])*(a[1]-b[1])\n",
    "  return math.sqrt(x2+y2)"
   ]
  },
  {
   "cell_type": "code",
   "execution_count": 17,
   "id": "0a249eb7-ce4e-4aa9-b31a-01c806450312",
   "metadata": {},
   "outputs": [
    {
     "data": {
      "text/plain": [
       "3.605551275463989"
      ]
     },
     "execution_count": 17,
     "metadata": {},
     "output_type": "execute_result"
    }
   ],
   "source": [
    "jarak(city[0],city[2])"
   ]
  },
  {
   "cell_type": "code",
   "execution_count": 18,
   "id": "ed7ddafb-ac59-4693-aa12-956f6074996d",
   "metadata": {},
   "outputs": [
    {
     "data": {
      "text/plain": [
       "5.385164807134504"
      ]
     },
     "execution_count": 18,
     "metadata": {},
     "output_type": "execute_result"
    }
   ],
   "source": [
    "jarak(city[0],city[3])"
   ]
  },
  {
   "cell_type": "code",
   "execution_count": 19,
   "id": "3484a78c-9226-4000-94d0-9057c4477ee6",
   "metadata": {},
   "outputs": [],
   "source": [
    "#Cek hasil dari akar 29"
   ]
  },
  {
   "cell_type": "code",
   "execution_count": 20,
   "id": "5c79a0cb-b6f9-4112-9ea6-5c3b7ffb9993",
   "metadata": {},
   "outputs": [
    {
     "data": {
      "text/plain": [
       "5.385164807134504"
      ]
     },
     "execution_count": 20,
     "metadata": {},
     "output_type": "execute_result"
    }
   ],
   "source": [
    "math.sqrt(29)"
   ]
  },
  {
   "cell_type": "code",
   "execution_count": 21,
   "id": "9a09edc1-718b-4809-9161-b5c548d3d2d4",
   "metadata": {},
   "outputs": [
    {
     "data": {
      "text/plain": [
       "[[0, 0], [1, 2], [3, 2], [5, 2], [3, 6], [5, 3], [3, 4], [6, 2], [4, 4]]"
      ]
     },
     "execution_count": 21,
     "metadata": {},
     "output_type": "execute_result"
    }
   ],
   "source": [
    "city"
   ]
  },
  {
   "cell_type": "code",
   "execution_count": 22,
   "id": "e6e373f2-b3c3-45ce-a123-0e89642a707a",
   "metadata": {},
   "outputs": [],
   "source": [
    "#Terdapat 8 kotak (range 1,k+1) itu menunjukkan dari 1 sampai dengan k+1)"
   ]
  },
  {
   "cell_type": "code",
   "execution_count": 23,
   "id": "edddce8b-b024-460c-a613-f1858727f511",
   "metadata": {},
   "outputs": [],
   "source": [
    "def kromosom(k):\n",
    "  acak=random.sample(range(1,k+1),k)\n",
    "  acak.append(0)\n",
    "  acak.insert(0,0)\n",
    "  return acak"
   ]
  },
  {
   "cell_type": "code",
   "execution_count": 24,
   "id": "254325e7-3154-483f-aa4c-c936239def05",
   "metadata": {},
   "outputs": [
    {
     "data": {
      "text/plain": [
       "[0, 5, 6, 7, 3, 2, 1, 4, 8, 0]"
      ]
     },
     "execution_count": 24,
     "metadata": {},
     "output_type": "execute_result"
    }
   ],
   "source": [
    "kromosom(8)"
   ]
  },
  {
   "cell_type": "code",
   "execution_count": 25,
   "id": "22dfa560-9e99-4574-93c5-6a2dfc6a2a1c",
   "metadata": {},
   "outputs": [],
   "source": [
    "#pengaruh pengambilan banyaknya populasi, probabilitas hasil optimum besar, tapi waktu lama"
   ]
  },
  {
   "cell_type": "code",
   "execution_count": 26,
   "id": "d7c7e656-8952-4487-b8fb-4dceabc35ff8",
   "metadata": {},
   "outputs": [],
   "source": [
    "def populasi(k,n):\n",
    "  return [ kromosom(k-1) for x in range(n) ]"
   ]
  },
  {
   "cell_type": "code",
   "execution_count": 27,
   "id": "0fbff800-604e-46ae-9076-f6308d226b4e",
   "metadata": {},
   "outputs": [],
   "source": [
    "pop=populasi(len(city),20)"
   ]
  },
  {
   "cell_type": "code",
   "execution_count": 28,
   "id": "d49619d1-8beb-4033-9290-3f5c19e19b8b",
   "metadata": {},
   "outputs": [
    {
     "data": {
      "text/plain": [
       "[[0, 1, 5, 7, 6, 3, 2, 8, 4, 0],\n",
       " [0, 8, 2, 1, 6, 5, 4, 7, 3, 0],\n",
       " [0, 1, 5, 3, 7, 6, 2, 8, 4, 0],\n",
       " [0, 7, 6, 2, 5, 3, 8, 1, 4, 0],\n",
       " [0, 1, 5, 8, 4, 3, 6, 7, 2, 0],\n",
       " [0, 2, 6, 1, 8, 5, 7, 3, 4, 0],\n",
       " [0, 6, 4, 8, 3, 7, 2, 5, 1, 0],\n",
       " [0, 2, 6, 8, 7, 1, 3, 5, 4, 0],\n",
       " [0, 7, 2, 4, 1, 8, 3, 5, 6, 0],\n",
       " [0, 7, 4, 1, 8, 6, 5, 3, 2, 0],\n",
       " [0, 1, 2, 7, 3, 6, 5, 8, 4, 0],\n",
       " [0, 1, 3, 8, 7, 5, 6, 2, 4, 0],\n",
       " [0, 1, 6, 4, 5, 8, 2, 3, 7, 0],\n",
       " [0, 5, 3, 1, 2, 7, 8, 6, 4, 0],\n",
       " [0, 8, 7, 4, 2, 5, 1, 3, 6, 0],\n",
       " [0, 4, 6, 1, 5, 2, 3, 7, 8, 0],\n",
       " [0, 2, 5, 1, 8, 4, 6, 3, 7, 0],\n",
       " [0, 2, 7, 4, 6, 5, 3, 1, 8, 0],\n",
       " [0, 4, 7, 5, 8, 2, 6, 3, 1, 0],\n",
       " [0, 5, 6, 4, 3, 8, 1, 7, 2, 0]]"
      ]
     },
     "execution_count": 28,
     "metadata": {},
     "output_type": "execute_result"
    }
   ],
   "source": [
    "pop"
   ]
  },
  {
   "cell_type": "code",
   "execution_count": 29,
   "id": "823cd4e9-027e-4f5c-ad8b-d32769653501",
   "metadata": {},
   "outputs": [],
   "source": [
    "def totaljarak(city, rute):\n",
    "  a=0\n",
    "  for i in range(len(rute)-1):\n",
    "    a=a+jarak(city[rute[i]],city[rute[i+1]])\n",
    "\n",
    "  return a"
   ]
  },
  {
   "cell_type": "code",
   "execution_count": 30,
   "id": "2091eae1-2ada-4ebb-bc7c-00df6c617249",
   "metadata": {},
   "outputs": [
    {
     "data": {
      "text/plain": [
       "25.145064766080388"
      ]
     },
     "execution_count": 30,
     "metadata": {},
     "output_type": "execute_result"
    }
   ],
   "source": [
    "totaljarak(city,pop[2])"
   ]
  },
  {
   "cell_type": "code",
   "execution_count": 31,
   "id": "e28e7b47-2edf-4d1a-9b85-b9a16713c407",
   "metadata": {},
   "outputs": [],
   "source": [
    "def fitness(pop,city):\n",
    "  a=[totaljarak(city,pop[0])]\n",
    "  for i in range(1,len(pop)):\n",
    "    a.append(totaljarak(city,pop[i]))\n",
    "\n",
    "  return a"
   ]
  },
  {
   "cell_type": "code",
   "execution_count": 32,
   "id": "6c998fe0-13c7-4652-b663-0e4be6356f83",
   "metadata": {},
   "outputs": [],
   "source": [
    "s=fitness(pop,city)"
   ]
  },
  {
   "cell_type": "code",
   "execution_count": 33,
   "id": "0f219605-d4fb-49d2-9d08-c905938330f6",
   "metadata": {},
   "outputs": [
    {
     "data": {
      "text/plain": [
       "[27.387705453199676,\n",
       " 29.948133411836643,\n",
       " 25.145064766080388,\n",
       " 32.188133713763264,\n",
       " 27.52112077366408,\n",
       " 27.048296687919308,\n",
       " 24.06737753561682,\n",
       " 29.747733608173537,\n",
       " 31.874378505799907,\n",
       " 29.243861803764105,\n",
       " 23.659048552118026,\n",
       " 27.659048552118026,\n",
       " 23.644883237919615,\n",
       " 28.36758295209086,\n",
       " 35.672882102102214,\n",
       " 29.38108603460158,\n",
       " 27.95932657662817,\n",
       " 30.10402477792015,\n",
       " 27.837194136991332,\n",
       " 31.986326355772434]"
      ]
     },
     "execution_count": 33,
     "metadata": {},
     "output_type": "execute_result"
    }
   ],
   "source": [
    "s"
   ]
  },
  {
   "cell_type": "code",
   "execution_count": 34,
   "id": "715bdfba-df21-464d-858e-959ad790f982",
   "metadata": {},
   "outputs": [],
   "source": [
    "def urutan(pop):\n",
    "  s=fitness(pop,city)\n",
    "  r=sorted(range(len(s)), key=lambda k: s[k])\n",
    "  x=[pop[r[0]]]\n",
    "  for i in range(1,len(pop)):\n",
    "    x.append(pop[r[i]])\n",
    "  \n",
    "  return x"
   ]
  },
  {
   "cell_type": "code",
   "execution_count": 35,
   "id": "c8d88252-5d7d-4e07-b622-d2321ed9b7e8",
   "metadata": {},
   "outputs": [
    {
     "data": {
      "text/plain": [
       "[[0, 1, 6, 4, 5, 8, 2, 3, 7, 0],\n",
       " [0, 1, 2, 7, 3, 6, 5, 8, 4, 0],\n",
       " [0, 6, 4, 8, 3, 7, 2, 5, 1, 0],\n",
       " [0, 1, 5, 3, 7, 6, 2, 8, 4, 0],\n",
       " [0, 2, 6, 1, 8, 5, 7, 3, 4, 0],\n",
       " [0, 1, 5, 7, 6, 3, 2, 8, 4, 0],\n",
       " [0, 1, 5, 8, 4, 3, 6, 7, 2, 0],\n",
       " [0, 1, 3, 8, 7, 5, 6, 2, 4, 0],\n",
       " [0, 4, 7, 5, 8, 2, 6, 3, 1, 0],\n",
       " [0, 2, 5, 1, 8, 4, 6, 3, 7, 0],\n",
       " [0, 5, 3, 1, 2, 7, 8, 6, 4, 0],\n",
       " [0, 7, 4, 1, 8, 6, 5, 3, 2, 0],\n",
       " [0, 4, 6, 1, 5, 2, 3, 7, 8, 0],\n",
       " [0, 2, 6, 8, 7, 1, 3, 5, 4, 0],\n",
       " [0, 8, 2, 1, 6, 5, 4, 7, 3, 0],\n",
       " [0, 2, 7, 4, 6, 5, 3, 1, 8, 0],\n",
       " [0, 7, 2, 4, 1, 8, 3, 5, 6, 0],\n",
       " [0, 5, 6, 4, 3, 8, 1, 7, 2, 0],\n",
       " [0, 7, 6, 2, 5, 3, 8, 1, 4, 0],\n",
       " [0, 8, 7, 4, 2, 5, 1, 3, 6, 0]]"
      ]
     },
     "execution_count": 35,
     "metadata": {},
     "output_type": "execute_result"
    }
   ],
   "source": [
    "urutan(pop)"
   ]
  },
  {
   "cell_type": "code",
   "execution_count": 36,
   "id": "2c1df247-98d2-4d2a-8a31-505d4d4cfd7f",
   "metadata": {},
   "outputs": [],
   "source": [
    "def urutanFit(pop):\n",
    "  a=urutan(pop)\n",
    "  b=[]\n",
    "  for i in range(len(pop)):\n",
    "    b.append([a[i],totaljarak(city,a[i])])\n",
    "\n",
    "  return b"
   ]
  },
  {
   "cell_type": "code",
   "execution_count": 37,
   "id": "6d511b34-c265-4ae7-9e9f-e2a2787c94f1",
   "metadata": {},
   "outputs": [
    {
     "data": {
      "text/plain": [
       "[[[0, 1, 6, 4, 5, 8, 2, 3, 7, 0], 23.644883237919615],\n",
       " [[0, 1, 2, 7, 3, 6, 5, 8, 4, 0], 23.659048552118026],\n",
       " [[0, 6, 4, 8, 3, 7, 2, 5, 1, 0], 24.06737753561682],\n",
       " [[0, 1, 5, 3, 7, 6, 2, 8, 4, 0], 25.145064766080388],\n",
       " [[0, 2, 6, 1, 8, 5, 7, 3, 4, 0], 27.048296687919308],\n",
       " [[0, 1, 5, 7, 6, 3, 2, 8, 4, 0], 27.387705453199676],\n",
       " [[0, 1, 5, 8, 4, 3, 6, 7, 2, 0], 27.52112077366408],\n",
       " [[0, 1, 3, 8, 7, 5, 6, 2, 4, 0], 27.659048552118026],\n",
       " [[0, 4, 7, 5, 8, 2, 6, 3, 1, 0], 27.837194136991332],\n",
       " [[0, 2, 5, 1, 8, 4, 6, 3, 7, 0], 27.95932657662817],\n",
       " [[0, 5, 3, 1, 2, 7, 8, 6, 4, 0], 28.36758295209086],\n",
       " [[0, 7, 4, 1, 8, 6, 5, 3, 2, 0], 29.243861803764105],\n",
       " [[0, 4, 6, 1, 5, 2, 3, 7, 8, 0], 29.38108603460158],\n",
       " [[0, 2, 6, 8, 7, 1, 3, 5, 4, 0], 29.747733608173537],\n",
       " [[0, 8, 2, 1, 6, 5, 4, 7, 3, 0], 29.948133411836643],\n",
       " [[0, 2, 7, 4, 6, 5, 3, 1, 8, 0], 30.10402477792015],\n",
       " [[0, 7, 2, 4, 1, 8, 3, 5, 6, 0], 31.874378505799907],\n",
       " [[0, 5, 6, 4, 3, 8, 1, 7, 2, 0], 31.986326355772434],\n",
       " [[0, 7, 6, 2, 5, 3, 8, 1, 4, 0], 32.188133713763264],\n",
       " [[0, 8, 7, 4, 2, 5, 1, 3, 6, 0], 35.672882102102214]]"
      ]
     },
     "execution_count": 37,
     "metadata": {},
     "output_type": "execute_result"
    }
   ],
   "source": [
    "urutanFit(pop)"
   ]
  },
  {
   "cell_type": "code",
   "execution_count": 38,
   "id": "fd1342c2-ec06-41df-8672-949f885bf6e2",
   "metadata": {},
   "outputs": [],
   "source": [
    "def parents(urutan, retain=0.4): #ini adalah fungsi untuk mendapatkan parent\n",
    "    retain_length = int(len(urutan)*retain) #50 x 0.4 =20\n",
    "    parents = urutan[:retain_length]\n",
    "    return parents"
   ]
  },
  {
   "cell_type": "code",
   "execution_count": 39,
   "id": "5aa7b375-ea7e-4ff0-a372-3d47eba8cef3",
   "metadata": {},
   "outputs": [],
   "source": [
    "par=parents(urutan(pop))"
   ]
  },
  {
   "cell_type": "code",
   "execution_count": 40,
   "id": "37edeca5-fa47-464c-bc3c-317da63f95d0",
   "metadata": {},
   "outputs": [
    {
     "data": {
      "text/plain": [
       "[[0, 1, 6, 4, 5, 8, 2, 3, 7, 0],\n",
       " [0, 1, 2, 7, 3, 6, 5, 8, 4, 0],\n",
       " [0, 6, 4, 8, 3, 7, 2, 5, 1, 0],\n",
       " [0, 1, 5, 3, 7, 6, 2, 8, 4, 0],\n",
       " [0, 2, 6, 1, 8, 5, 7, 3, 4, 0],\n",
       " [0, 1, 5, 7, 6, 3, 2, 8, 4, 0],\n",
       " [0, 1, 5, 8, 4, 3, 6, 7, 2, 0],\n",
       " [0, 1, 3, 8, 7, 5, 6, 2, 4, 0]]"
      ]
     },
     "execution_count": 40,
     "metadata": {},
     "output_type": "execute_result"
    }
   ],
   "source": [
    "par"
   ]
  },
  {
   "cell_type": "code",
   "execution_count": 41,
   "id": "7efc2f68-7415-47f1-bfa1-c2d48f9e58e7",
   "metadata": {},
   "outputs": [
    {
     "data": {
      "text/plain": [
       "[[[0, 1, 6, 4, 5, 8, 2, 3, 7, 0], 23.644883237919615],\n",
       " [[0, 1, 2, 7, 3, 6, 5, 8, 4, 0], 23.659048552118026],\n",
       " [[0, 6, 4, 8, 3, 7, 2, 5, 1, 0], 24.06737753561682],\n",
       " [[0, 1, 5, 3, 7, 6, 2, 8, 4, 0], 25.145064766080388],\n",
       " [[0, 2, 6, 1, 8, 5, 7, 3, 4, 0], 27.048296687919308],\n",
       " [[0, 1, 5, 7, 6, 3, 2, 8, 4, 0], 27.387705453199676],\n",
       " [[0, 1, 5, 8, 4, 3, 6, 7, 2, 0], 27.52112077366408],\n",
       " [[0, 1, 3, 8, 7, 5, 6, 2, 4, 0], 27.659048552118026]]"
      ]
     },
     "execution_count": 41,
     "metadata": {},
     "output_type": "execute_result"
    }
   ],
   "source": [
    "urutanFit(par)"
   ]
  },
  {
   "cell_type": "code",
   "execution_count": 42,
   "id": "1423bb79-bdc8-4a0f-80df-ebade749bacf",
   "metadata": {},
   "outputs": [],
   "source": [
    "def swap_mutation(kr,mutationRate):\n",
    "    kr.remove(0)\n",
    "    kr.remove(0)\n",
    "    if(random.random() < mutationRate):\n",
    "        picks = random.sample(range(len(kr)), 2)\n",
    "        temp = kr[picks[0]]\n",
    "        kr[picks[0]] = kr[picks[1]]\n",
    "        kr[picks[1]] = temp\n",
    "    \n",
    "    kr.append(0)\n",
    "    kr.insert(0,0)\n",
    "    return kr\n",
    "    # print(\"Mutated path: \", population[ind])\n",
    "    #swap mutation => mengganti gen lain dengan "
   ]
  },
  {
   "cell_type": "code",
   "execution_count": 43,
   "id": "89b4dd85-cad2-4a57-aa86-7f197f93706c",
   "metadata": {},
   "outputs": [
    {
     "data": {
      "text/plain": [
       "[0, 1, 6, 4, 5, 8, 2, 3, 7, 0]"
      ]
     },
     "execution_count": 43,
     "metadata": {},
     "output_type": "execute_result"
    }
   ],
   "source": [
    "par[0]"
   ]
  },
  {
   "cell_type": "code",
   "execution_count": 44,
   "id": "f0dd6999-a442-48dc-9d60-5bcde0413eb1",
   "metadata": {},
   "outputs": [
    {
     "data": {
      "text/plain": [
       "[0, 1, 6, 4, 5, 8, 2, 3, 7, 0]"
      ]
     },
     "execution_count": 44,
     "metadata": {},
     "output_type": "execute_result"
    }
   ],
   "source": [
    "swap_mutation(par[0],0.6)"
   ]
  },
  {
   "cell_type": "code",
   "execution_count": 45,
   "id": "00dd6a9a-c10e-4f03-be5a-6c1dfc04498b",
   "metadata": {},
   "outputs": [],
   "source": [
    "def mutatePopulation(population, mutationRate):\n",
    "    mutatedPop = []\n",
    "    \n",
    "    for ind in range(0, len(population)):\n",
    "        mutatedInd = swap_mutation(population[ind], mutationRate)\n",
    "        mutatedPop.append(mutatedInd)\n",
    "    return mutatedPop"
   ]
  },
  {
   "cell_type": "code",
   "execution_count": 46,
   "id": "a2934808-b546-47c9-8e5b-4e9f3b71a634",
   "metadata": {},
   "outputs": [
    {
     "data": {
      "text/plain": [
       "[[0, 1, 6, 4, 5, 8, 2, 3, 7, 0],\n",
       " [0, 1, 2, 7, 3, 6, 5, 8, 4, 0],\n",
       " [0, 6, 4, 8, 2, 7, 3, 5, 1, 0],\n",
       " [0, 5, 1, 3, 7, 6, 2, 8, 4, 0],\n",
       " [0, 2, 6, 1, 7, 5, 8, 3, 4, 0],\n",
       " [0, 1, 5, 3, 6, 7, 2, 8, 4, 0],\n",
       " [0, 1, 5, 8, 4, 7, 6, 3, 2, 0],\n",
       " [0, 1, 3, 8, 7, 5, 6, 2, 4, 0],\n",
       " [0, 4, 7, 5, 8, 2, 6, 3, 1, 0],\n",
       " [0, 2, 3, 1, 8, 4, 6, 5, 7, 0],\n",
       " [0, 5, 3, 1, 2, 7, 8, 6, 4, 0],\n",
       " [0, 7, 4, 1, 8, 6, 5, 3, 2, 0],\n",
       " [0, 4, 6, 1, 5, 2, 7, 3, 8, 0],\n",
       " [0, 2, 6, 8, 7, 1, 3, 5, 4, 0],\n",
       " [0, 8, 2, 6, 1, 5, 4, 7, 3, 0],\n",
       " [0, 2, 7, 4, 6, 5, 3, 1, 8, 0],\n",
       " [0, 7, 2, 4, 1, 8, 3, 5, 6, 0],\n",
       " [0, 5, 6, 4, 2, 8, 1, 7, 3, 0],\n",
       " [0, 7, 6, 8, 5, 3, 2, 1, 4, 0],\n",
       " [0, 8, 7, 4, 2, 5, 1, 3, 6, 0]]"
      ]
     },
     "execution_count": 46,
     "metadata": {},
     "output_type": "execute_result"
    }
   ],
   "source": [
    "mutatePopulation(urutan(pop),0.5)"
   ]
  },
  {
   "cell_type": "code",
   "execution_count": null,
   "id": "7e81d7a1-0d9d-47fb-9cf2-9b3ab8b41681",
   "metadata": {},
   "outputs": [],
   "source": []
  },
  {
   "cell_type": "code",
   "execution_count": null,
   "id": "79cfde75-5e70-4efd-811b-ccd5ddffa5d4",
   "metadata": {},
   "outputs": [],
   "source": []
  }
 ],
 "metadata": {
  "kernelspec": {
   "display_name": "Python 3 (ipykernel)",
   "language": "python",
   "name": "python3"
  },
  "language_info": {
   "codemirror_mode": {
    "name": "ipython",
    "version": 3
   },
   "file_extension": ".py",
   "mimetype": "text/x-python",
   "name": "python",
   "nbconvert_exporter": "python",
   "pygments_lexer": "ipython3",
   "version": "3.9.12"
  }
 },
 "nbformat": 4,
 "nbformat_minor": 5
}
